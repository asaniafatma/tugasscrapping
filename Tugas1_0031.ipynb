{
  "nbformat": 4,
  "nbformat_minor": 0,
  "metadata": {
    "colab": {
      "provenance": []
    },
    "kernelspec": {
      "name": "python3",
      "display_name": "Python 3"
    },
    "language_info": {
      "name": "python"
    }
  },
  "cells": [
    {
      "cell_type": "code",
      "execution_count": null,
      "metadata": {
        "id": "eJ7n7117p6Id",
        "colab": {
          "base_uri": "https://localhost:8080/"
        },
        "outputId": "d2f59baa-494a-4411-bb4f-fd4969684a4e"
      },
      "outputs": [
        {
          "output_type": "stream",
          "name": "stdout",
          "text": [
            "Looking in indexes: https://pypi.org/simple, https://us-python.pkg.dev/colab-wheels/public/simple/\n",
            "Requirement already satisfied: google-search-results in /usr/local/lib/python3.7/dist-packages (2.4.1)\n",
            "Requirement already satisfied: requests in /usr/local/lib/python3.7/dist-packages (from google-search-results) (2.23.0)\n",
            "Requirement already satisfied: urllib3!=1.25.0,!=1.25.1,<1.26,>=1.21.1 in /usr/local/lib/python3.7/dist-packages (from requests->google-search-results) (1.24.3)\n",
            "Requirement already satisfied: certifi>=2017.4.17 in /usr/local/lib/python3.7/dist-packages (from requests->google-search-results) (2022.9.24)\n",
            "Requirement already satisfied: chardet<4,>=3.0.2 in /usr/local/lib/python3.7/dist-packages (from requests->google-search-results) (3.0.4)\n",
            "Requirement already satisfied: idna<3,>=2.5 in /usr/local/lib/python3.7/dist-packages (from requests->google-search-results) (2.10)\n"
          ]
        }
      ],
      "source": [
        "!pip install google-search-results"
      ]
    },
    {
      "cell_type": "code",
      "source": [
        "from serpapi import GoogleSearch\n",
        "\n",
        "params = {\n",
        "  \"engine\": \"google_maps\",\n",
        "  \"q\": \"jatim park\",\n",
        "  \"ll\": \"@-7.8655985,112.5036636,13z\",\n",
        "  \"type\": \"search\",\n",
        "  \"api_key\": \"6ff2cd5daf130c4225bf2323e60be777dff903ebdcf6eac3d57fa4b4fb60d96f\"\n",
        "}\n",
        "\n",
        "search = GoogleSearch(params)\n",
        "results = search.get_dict()\n",
        "local_results = results[\"local_results\"]"
      ],
      "metadata": {
        "id": "xF-n7Ab0qqzj"
      },
      "execution_count": null,
      "outputs": []
    },
    {
      "cell_type": "code",
      "source": [
        "local_results"
      ],
      "metadata": {
        "id": "HBLXNTr6rrl0"
      },
      "execution_count": null,
      "outputs": []
    },
    {
      "cell_type": "code",
      "source": [
        "#positions 1\n",
        "from serpapi import GoogleSearch\n",
        "\n",
        "params = {\n",
        "  \"engine\": \"google_maps_reviews\",\n",
        "  \"data_id\": \"0x2e78872ad61d07b9:0x59a848ad52479780\",\n",
        "  \"api_key\": \"6ff2cd5daf130c4225bf2323e60be777dff903ebdcf6eac3d57fa4b4fb60d96f\"\n",
        "}\n",
        "\n",
        "search = GoogleSearch(params)\n",
        "results = search.get_dict()\n",
        "reviews = results[\"reviews\"]"
      ],
      "metadata": {
        "id": "OlP7cp3IsClo"
      },
      "execution_count": null,
      "outputs": []
    },
    {
      "cell_type": "code",
      "source": [
        "results"
      ],
      "metadata": {
        "id": "sQlDzbPbsTDV"
      },
      "execution_count": null,
      "outputs": []
    },
    {
      "cell_type": "code",
      "source": [
        "for i in range(10):\n",
        "  rating = results [\"reviews\"][i][\"rating\"]\n",
        "  print(rating)\n",
        "  reviews = results [\"reviews\"][i][\"snippet\"]\n",
        "  print(reviews)"
      ],
      "metadata": {
        "id": "ROYrdeEMsZOl"
      },
      "execution_count": null,
      "outputs": []
    },
    {
      "cell_type": "code",
      "source": [
        "#positions 2\n",
        "from serpapi import GoogleSearch\n",
        "\n",
        "params = {\n",
        "  \"engine\": \"google_maps_reviews\",\n",
        "  \"data_id\": \"0x2e78811848f3a957:0x1b0013b35e7ee3cd\",\n",
        "  \"api_key\": \"6ff2cd5daf130c4225bf2323e60be777dff903ebdcf6eac3d57fa4b4fb60d96f\"\n",
        "}\n",
        "\n",
        "search = GoogleSearch(params)\n",
        "results = search.get_dict()\n",
        "reviews = results[\"reviews\"]"
      ],
      "metadata": {
        "id": "NowQzUjmtGYO"
      },
      "execution_count": null,
      "outputs": []
    },
    {
      "cell_type": "code",
      "source": [
        "results"
      ],
      "metadata": {
        "id": "32SMpk5HtjJc"
      },
      "execution_count": null,
      "outputs": []
    },
    {
      "cell_type": "code",
      "source": [
        "for i in range(10):\n",
        "  rating = results [\"reviews\"][i][\"rating\"]\n",
        "  print(rating)\n",
        "  reviews = results [\"reviews\"][i][\"snippet\"]\n",
        "  print(reviews)"
      ],
      "metadata": {
        "id": "sVsQ7P_xt2u9"
      },
      "execution_count": null,
      "outputs": []
    },
    {
      "cell_type": "code",
      "source": [
        "#positions 3\n",
        "from serpapi import GoogleSearch\n",
        "\n",
        "params = {\n",
        "  \"engine\": \"google_maps_reviews\",\n",
        "  \"data_id\": \"0x2e78812d0afa4bc5:0x78f3e619b596e45a\",\n",
        "  \"api_key\": \"6ff2cd5daf130c4225bf2323e60be777dff903ebdcf6eac3d57fa4b4fb60d96f\"\n",
        "}\n",
        "\n",
        "search = GoogleSearch(params)\n",
        "results = search.get_dict()\n",
        "reviews = results[\"reviews\"]"
      ],
      "metadata": {
        "id": "IEO3stNzuNeb"
      },
      "execution_count": null,
      "outputs": []
    },
    {
      "cell_type": "code",
      "source": [
        "results"
      ],
      "metadata": {
        "id": "qlVpULq_wcvG"
      },
      "execution_count": null,
      "outputs": []
    },
    {
      "cell_type": "code",
      "source": [
        "for i in range(10):\n",
        "  rating = results [\"reviews\"][i][\"rating\"]\n",
        "  print(rating)\n",
        "  reviews = results [\"reviews\"][i][\"snippet\"]\n",
        "  print(reviews)"
      ],
      "metadata": {
        "id": "Plwjfb6_whUt"
      },
      "execution_count": null,
      "outputs": []
    },
    {
      "cell_type": "code",
      "source": [
        "#positions 4\n",
        "from serpapi import GoogleSearch\n",
        "\n",
        "params = {\n",
        "  \"engine\": \"google_maps_reviews\",\n",
        "  \"data_id\": \"0x2e788117138060f9:0xd491beb870faed99\",\n",
        "  \"api_key\": \"6ff2cd5daf130c4225bf2323e60be777dff903ebdcf6eac3d57fa4b4fb60d96f\"\n",
        "}\n",
        "\n",
        "search = GoogleSearch(params)\n",
        "results = search.get_dict()\n",
        "reviews = results[\"reviews\"]"
      ],
      "metadata": {
        "id": "_keLc8vvwpf2"
      },
      "execution_count": null,
      "outputs": []
    },
    {
      "cell_type": "code",
      "source": [
        "results"
      ],
      "metadata": {
        "id": "bNPGwjTaxDJF"
      },
      "execution_count": null,
      "outputs": []
    },
    {
      "cell_type": "code",
      "source": [
        "for i in range(10):\n",
        "  rating = results [\"reviews\"][i][\"rating\"]\n",
        "  print(rating)\n",
        "  reviews = results [\"reviews\"][i][\"snippet\"]\n",
        "  print(reviews)"
      ],
      "metadata": {
        "id": "raNMe92mxKkT"
      },
      "execution_count": null,
      "outputs": []
    },
    {
      "cell_type": "code",
      "source": [
        "#positions 5\n",
        "from serpapi import GoogleSearch\n",
        "\n",
        "params = {\n",
        "  \"engine\": \"google_maps_reviews\",\n",
        "  \"data_id\": \"0x2e7881617ff5e4f7:0x63c0ef9654873861\",\n",
        "  \"api_key\": \"6ff2cd5daf130c4225bf2323e60be777dff903ebdcf6eac3d57fa4b4fb60d96f\"\n",
        "}\n",
        "\n",
        "search = GoogleSearch(params)\n",
        "results = search.get_dict()\n",
        "reviews = results[\"reviews\"]"
      ],
      "metadata": {
        "colab": {
          "base_uri": "https://localhost:8080/"
        },
        "id": "Q-Orfrk-5I0P",
        "outputId": "3c3f7fcf-1a25-4de3-9d4d-56c3606aea25"
      },
      "execution_count": null,
      "outputs": [
        {
          "output_type": "stream",
          "name": "stdout",
          "text": [
            "https://serpapi.com/search\n"
          ]
        }
      ]
    },
    {
      "cell_type": "code",
      "source": [
        "results"
      ],
      "metadata": {
        "id": "10lpG6XK5xRV"
      },
      "execution_count": null,
      "outputs": []
    },
    {
      "cell_type": "code",
      "source": [
        "for i in range(10):\n",
        "  rating = results [\"reviews\"][i][\"rating\"]\n",
        "  print(rating)\n",
        "  reviews = results [\"reviews\"][i][\"snippet\"]\n",
        "  print(reviews)"
      ],
      "metadata": {
        "id": "gHJjwu3x538J"
      },
      "execution_count": null,
      "outputs": []
    },
    {
      "cell_type": "code",
      "source": [
        "#positions 6\n",
        "from serpapi import GoogleSearch\n",
        "\n",
        "params = {\n",
        "  \"engine\": \"google_maps_reviews\",\n",
        "  \"data_id\": \"0x2e78872ad61d7253:0x5b897ba8f82373a0\",\n",
        "  \"api_key\": \"6ff2cd5daf130c4225bf2323e60be777dff903ebdcf6eac3d57fa4b4fb60d96f\"\n",
        "}\n",
        "\n",
        "search = GoogleSearch(params)\n",
        "results = search.get_dict()\n",
        "reviews = results[\"reviews\"]"
      ],
      "metadata": {
        "id": "bXOKxthL6Agu"
      },
      "execution_count": null,
      "outputs": []
    },
    {
      "cell_type": "code",
      "source": [
        "results"
      ],
      "metadata": {
        "id": "koAJhtRc6Uu6"
      },
      "execution_count": null,
      "outputs": []
    },
    {
      "cell_type": "code",
      "source": [
        "for i in range(10):\n",
        "  rating = results [\"reviews\"][i][\"rating\"]\n",
        "  print(rating)\n",
        "  reviews = results [\"reviews\"][i][\"snippet\"]\n",
        "  print(reviews)"
      ],
      "metadata": {
        "id": "QWIZkJdz6Zqh"
      },
      "execution_count": null,
      "outputs": []
    },
    {
      "cell_type": "code",
      "source": [
        "#positions 7\n",
        "from serpapi import GoogleSearch\n",
        "\n",
        "params = {\n",
        "  \"engine\": \"google_maps_reviews\",\n",
        "  \"data_id\": \"0x2e788117270acb61:0x56ad07a87151d92c\",\n",
        "  \"api_key\": \"6ff2cd5daf130c4225bf2323e60be777dff903ebdcf6eac3d57fa4b4fb60d96f\"\n",
        "}\n",
        "\n",
        "search = GoogleSearch(params)\n",
        "results = search.get_dict()\n",
        "reviews = results[\"reviews\"]"
      ],
      "metadata": {
        "id": "ARJhESgF7ACT"
      },
      "execution_count": null,
      "outputs": []
    },
    {
      "cell_type": "code",
      "source": [
        "results"
      ],
      "metadata": {
        "id": "8ijZ7R8W7YhQ"
      },
      "execution_count": null,
      "outputs": []
    },
    {
      "cell_type": "code",
      "source": [
        "for i in range(10):\n",
        "  rating = results [\"reviews\"][i][\"rating\"]\n",
        "  print(rating)\n",
        "  reviews = results [\"reviews\"][i][\"snippet\"]\n",
        "  print(reviews)"
      ],
      "metadata": {
        "id": "D5b6qyO17bs3"
      },
      "execution_count": null,
      "outputs": []
    },
    {
      "cell_type": "code",
      "source": [
        "#positions 8\n",
        "from serpapi import GoogleSearch\n",
        "\n",
        "params = {\n",
        "  \"engine\": \"google_maps_reviews\",\n",
        "  \"data_id\": \"0x2e788117372d8a3f:0x4b0b29bbdf58794f\",\n",
        "  \"api_key\": \"6ff2cd5daf130c4225bf2323e60be777dff903ebdcf6eac3d57fa4b4fb60d96f\"\n",
        "}\n",
        "\n",
        "search = GoogleSearch(params)\n",
        "results = search.get_dict()\n",
        "reviews = results[\"reviews\"]"
      ],
      "metadata": {
        "id": "A-XZ64-Q7qKv"
      },
      "execution_count": null,
      "outputs": []
    },
    {
      "cell_type": "code",
      "source": [
        "results"
      ],
      "metadata": {
        "id": "DZqxMB3t77S4"
      },
      "execution_count": null,
      "outputs": []
    },
    {
      "cell_type": "code",
      "source": [
        "for i in range(10):\n",
        "  rating = results [\"reviews\"][i][\"rating\"]\n",
        "  print(rating)\n",
        "  reviews = results [\"reviews\"][i][\"snippet\"]\n",
        "  print(reviews)"
      ],
      "metadata": {
        "id": "iw0alMGF7-od"
      },
      "execution_count": null,
      "outputs": []
    },
    {
      "cell_type": "code",
      "source": [
        "#positions 9\n",
        "from serpapi import GoogleSearch\n",
        "\n",
        "params = {\n",
        "  \"engine\": \"google_maps_reviews\",\n",
        "  \"data_id\": \"0x2e78812bb84d2d63:0xb594f3837d9ade3f\",\n",
        "  \"api_key\": \"6ff2cd5daf130c4225bf2323e60be777dff903ebdcf6eac3d57fa4b4fb60d96f\"\n",
        "}\n",
        "\n",
        "search = GoogleSearch(params)\n",
        "results = search.get_dict()\n",
        "reviews = results[\"reviews\"]"
      ],
      "metadata": {
        "colab": {
          "base_uri": "https://localhost:8080/"
        },
        "id": "Wps_YK5x8f-3",
        "outputId": "a01259d8-6d13-471b-943f-59d63137b1ae"
      },
      "execution_count": null,
      "outputs": [
        {
          "output_type": "stream",
          "name": "stdout",
          "text": [
            "https://serpapi.com/search\n"
          ]
        }
      ]
    },
    {
      "cell_type": "code",
      "source": [
        "results"
      ],
      "metadata": {
        "id": "BfiUTbq08v4B"
      },
      "execution_count": null,
      "outputs": []
    },
    {
      "cell_type": "code",
      "source": [
        "for i in range(10):\n",
        "  rating = results [\"reviews\"][i][\"rating\"]\n",
        "  print(rating)\n",
        "  reviews = results [\"reviews\"][i][\"snippet\"]\n",
        "  print(reviews)"
      ],
      "metadata": {
        "id": "FgPZCHpb8yaC"
      },
      "execution_count": null,
      "outputs": []
    },
    {
      "cell_type": "code",
      "source": [
        "#positions 10\n",
        "from serpapi import GoogleSearch\n",
        "\n",
        "params = {\n",
        "  \"engine\": \"google_maps_reviews\",\n",
        "  \"data_id\": \"0x2e7881429e90d651:0x9a1524cafe5eac51\",\n",
        "  \"api_key\": \"6ff2cd5daf130c4225bf2323e60be777dff903ebdcf6eac3d57fa4b4fb60d96f\"\n",
        "}\n",
        "\n",
        "search = GoogleSearch(params)\n",
        "results = search.get_dict()\n",
        "reviews = results[\"reviews\"]"
      ],
      "metadata": {
        "colab": {
          "base_uri": "https://localhost:8080/"
        },
        "id": "MIuNaNfP83cF",
        "outputId": "26830863-29f6-4344-ddc6-c6f8f7ae020f"
      },
      "execution_count": null,
      "outputs": [
        {
          "output_type": "stream",
          "name": "stdout",
          "text": [
            "https://serpapi.com/search\n"
          ]
        }
      ]
    },
    {
      "cell_type": "code",
      "source": [
        "results"
      ],
      "metadata": {
        "id": "tcqkbXhd9O09"
      },
      "execution_count": null,
      "outputs": []
    },
    {
      "cell_type": "code",
      "source": [
        "for i in range(10):\n",
        "  rating = results [\"reviews\"][i][\"rating\"]\n",
        "  print(rating)\n",
        "  reviews = results [\"reviews\"][i][\"snippet\"]\n",
        "  print(reviews)"
      ],
      "metadata": {
        "id": "irVgt1-r9UB-"
      },
      "execution_count": null,
      "outputs": []
    },
    {
      "cell_type": "code",
      "source": [
        "#case folding\n",
        "kalimat = \"A nice place to improve our knowledge, and to entertain ourself at the same time. Spent almost 4 hours in this place.\"\n",
        "lower_case = kalimat.lower()\n",
        "print(lower_case)"
      ],
      "metadata": {
        "id": "glmkHTWI-p6r",
        "colab": {
          "base_uri": "https://localhost:8080/"
        },
        "outputId": "c878da9c-29ad-4814-f8d8-67bf9bb1f20c"
      },
      "execution_count": null,
      "outputs": [
        {
          "output_type": "stream",
          "name": "stdout",
          "text": [
            "a nice place to improve our knowledge, and to entertain ourself at the same time. spent almost 4 hours in this place.\n"
          ]
        }
      ]
    },
    {
      "cell_type": "code",
      "source": [
        "#tokenize\n",
        "import nltk\n",
        "nltk.download('book')\n",
        "#or\n",
        "nltk.download('tests')\n",
        "#or\n",
        "nltk.download('all-corpora')"
      ],
      "metadata": {
        "id": "YhJ5rlzIAJSx"
      },
      "execution_count": null,
      "outputs": []
    },
    {
      "cell_type": "code",
      "source": [
        "from nltk.tokenize import sent_tokenize, word_tokenize \n",
        "kalimat = \"There are some new facilities compared to the last time I went here. The old/previous facilities are still in a good condition.\"\n",
        "kalimat= kalimat+\"During this pandemic, the rides are disinfected after each round, and the visitors' hands are also disinfected before playing/riding.\"\n",
        "tokens = word_tokenize(kalimat)\n",
        "print(tokens)\n"
      ],
      "metadata": {
        "id": "-B92ppdvAoKH",
        "colab": {
          "base_uri": "https://localhost:8080/"
        },
        "outputId": "976347b1-614e-4bff-b643-a36516db71ea"
      },
      "execution_count": null,
      "outputs": [
        {
          "output_type": "stream",
          "name": "stdout",
          "text": [
            "['There', 'are', 'some', 'new', 'facilities', 'compared', 'to', 'the', 'last', 'time', 'I', 'went', 'here', '.', 'The', 'old/previous', 'facilities', 'are', 'still', 'in', 'a', 'good', 'condition.During', 'this', 'pandemic', ',', 'the', 'rides', 'are', 'disinfected', 'after', 'each', 'round', ',', 'and', 'the', 'visitors', \"'\", 'hands', 'are', 'also', 'disinfected', 'before', 'playing/riding', '.']\n"
          ]
        }
      ]
    },
    {
      "cell_type": "code",
      "source": [
        "#stopword removal menggunakan sastrawi\n",
        "!pip install Sastrawi"
      ],
      "metadata": {
        "id": "XlnJmSxrDRlP",
        "colab": {
          "base_uri": "https://localhost:8080/"
        },
        "outputId": "e9352c5f-945d-4cdf-a81b-20ef325c9a09"
      },
      "execution_count": null,
      "outputs": [
        {
          "output_type": "stream",
          "name": "stdout",
          "text": [
            "Looking in indexes: https://pypi.org/simple, https://us-python.pkg.dev/colab-wheels/public/simple/\n",
            "Collecting Sastrawi\n",
            "  Downloading Sastrawi-1.0.1-py2.py3-none-any.whl (209 kB)\n",
            "\u001b[K     |████████████████████████████████| 209 kB 4.8 MB/s \n",
            "\u001b[?25hInstalling collected packages: Sastrawi\n",
            "Successfully installed Sastrawi-1.0.1\n"
          ]
        }
      ]
    },
    {
      "cell_type": "code",
      "source": [
        "from Sastrawi.StopWordRemover.StopWordRemoverFactory import StopWordRemoverFactory\n",
        "factory = StopWordRemoverFactory()\n",
        "stopwords = factory.get_stop_words()\n",
        "print(stopwords)"
      ],
      "metadata": {
        "id": "qB9qRjk0D87X",
        "colab": {
          "base_uri": "https://localhost:8080/"
        },
        "outputId": "21422d48-d0d4-4a7e-fae1-31f0e57f54c2"
      },
      "execution_count": null,
      "outputs": [
        {
          "output_type": "stream",
          "name": "stdout",
          "text": [
            "['yang', 'untuk', 'pada', 'ke', 'para', 'namun', 'menurut', 'antara', 'dia', 'dua', 'ia', 'seperti', 'jika', 'jika', 'sehingga', 'kembali', 'dan', 'tidak', 'ini', 'karena', 'kepada', 'oleh', 'saat', 'harus', 'sementara', 'setelah', 'belum', 'kami', 'sekitar', 'bagi', 'serta', 'di', 'dari', 'telah', 'sebagai', 'masih', 'hal', 'ketika', 'adalah', 'itu', 'dalam', 'bisa', 'bahwa', 'atau', 'hanya', 'kita', 'dengan', 'akan', 'juga', 'ada', 'mereka', 'sudah', 'saya', 'terhadap', 'secara', 'agar', 'lain', 'anda', 'begitu', 'mengapa', 'kenapa', 'yaitu', 'yakni', 'daripada', 'itulah', 'lagi', 'maka', 'tentang', 'demi', 'dimana', 'kemana', 'pula', 'sambil', 'sebelum', 'sesudah', 'supaya', 'guna', 'kah', 'pun', 'sampai', 'sedangkan', 'selagi', 'sementara', 'tetapi', 'apakah', 'kecuali', 'sebab', 'selain', 'seolah', 'seraya', 'seterusnya', 'tanpa', 'agak', 'boleh', 'dapat', 'dsb', 'dst', 'dll', 'dahulu', 'dulunya', 'anu', 'demikian', 'tapi', 'ingin', 'juga', 'nggak', 'mari', 'nanti', 'melainkan', 'oh', 'ok', 'seharusnya', 'sebetulnya', 'setiap', 'setidaknya', 'sesuatu', 'pasti', 'saja', 'toh', 'ya', 'walau', 'tolong', 'tentu', 'amat', 'apalagi', 'bagaimanapun']\n"
          ]
        }
      ]
    },
    {
      "cell_type": "code",
      "source": [
        "from Sastrawi.StopWordRemover.StopWordRemoverFactory import StopWordRemoverFactory\n",
        "factory = StopWordRemoverFactory()\n",
        "stopword = factory.create_stop_word_remover()\n",
        "# Kalimat\n",
        "#\"Great place to spend time with family. We have fun and get more knowledge when visiting here.\" >> original word\n",
        "kalimat = \"Tempat yang bagus untuk menghabiskan waktu bersama keluarga. Kami bersenang-senang dan mendapatkan lebih banyak pengetahuan saat berkunjung ke sini.\"\n",
        "stop = stopword.remove(kalimat)\n",
        "print(stop)"
      ],
      "metadata": {
        "id": "WyygTsE-EDrE",
        "colab": {
          "base_uri": "https://localhost:8080/"
        },
        "outputId": "76045e69-ca73-4170-a644-8cd54d2b360c"
      },
      "execution_count": null,
      "outputs": [
        {
          "output_type": "stream",
          "name": "stdout",
          "text": [
            "Tempat bagus menghabiskan waktu bersama keluarga. Kami bersenang-senang mendapatkan lebih banyak pengetahuan berkunjung sini.\n"
          ]
        }
      ]
    },
    {
      "cell_type": "code",
      "source": [
        "#stemming menggunakan Sastrawi\n",
        "from Sastrawi.Stemmer.StemmerFactory import StemmerFactory# create stemmer\n",
        "factory = StemmerFactory()\n",
        "stemmer = factory.create_stemmer()# stemming process\n",
        "sentence = 'Tempat yang bagus untuk menghabiskan waktu bersama keluarga. Kami bersenang-senang dan mendapatkan lebih banyak pengetahuan saat berkunjung ke sini.'\n",
        "output   = stemmer.stem(sentence)\n",
        "print(output)"
      ],
      "metadata": {
        "colab": {
          "base_uri": "https://localhost:8080/"
        },
        "id": "SW6PcQLEE0Zc",
        "outputId": "c9c22402-480e-42b1-ffe2-ecfa303c5db6"
      },
      "execution_count": null,
      "outputs": [
        {
          "output_type": "stream",
          "name": "stdout",
          "text": [
            "tempat yang bagus untuk habis waktu sama keluarga kami senang dan dapat lebih banyak tahu saat kunjung ke sini\n"
          ]
        }
      ]
    }
  ]
}